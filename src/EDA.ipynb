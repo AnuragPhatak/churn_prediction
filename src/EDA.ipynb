{
 "cells": [
  {
   "cell_type": "code",
   "execution_count": 5,
   "id": "e014d66b",
   "metadata": {},
   "outputs": [],
   "source": [
    "import pandas as pd\n",
    "import os\n",
    "os.chdir(\"C:/Anurag/loylty_rewardz/churn_prediction\")\n",
    "\n"
   ]
  },
  {
   "cell_type": "code",
   "execution_count": 6,
   "id": "f39e8c86",
   "metadata": {},
   "outputs": [],
   "source": [
    "import pandas as pd\n",
    "\n",
    "df = pd.read_csv(\"data/raw/customer_churn_data.csv\")\n"
   ]
  },
  {
   "cell_type": "code",
   "execution_count": 7,
   "id": "33038889",
   "metadata": {},
   "outputs": [
    {
     "data": {
      "text/html": [
       "<div>\n",
       "<style scoped>\n",
       "    .dataframe tbody tr th:only-of-type {\n",
       "        vertical-align: middle;\n",
       "    }\n",
       "\n",
       "    .dataframe tbody tr th {\n",
       "        vertical-align: top;\n",
       "    }\n",
       "\n",
       "    .dataframe thead th {\n",
       "        text-align: right;\n",
       "    }\n",
       "</style>\n",
       "<table border=\"1\" class=\"dataframe\">\n",
       "  <thead>\n",
       "    <tr style=\"text-align: right;\">\n",
       "      <th></th>\n",
       "      <th>customer_id</th>\n",
       "      <th>account_age</th>\n",
       "      <th>recency</th>\n",
       "      <th>frequency</th>\n",
       "      <th>engagement_duration</th>\n",
       "      <th>feature_usage_count</th>\n",
       "      <th>plan_tier</th>\n",
       "      <th>support_tickets</th>\n",
       "      <th>billing_issues</th>\n",
       "      <th>marketing_ctr</th>\n",
       "      <th>nps_score</th>\n",
       "      <th>inactivity_streak</th>\n",
       "      <th>churn</th>\n",
       "    </tr>\n",
       "  </thead>\n",
       "  <tbody>\n",
       "    <tr>\n",
       "      <th>0</th>\n",
       "      <td>CUST_000001</td>\n",
       "      <td>171</td>\n",
       "      <td>15</td>\n",
       "      <td>2</td>\n",
       "      <td>4.036448</td>\n",
       "      <td>2</td>\n",
       "      <td>Premium</td>\n",
       "      <td>3</td>\n",
       "      <td>0</td>\n",
       "      <td>1.75</td>\n",
       "      <td>NaN</td>\n",
       "      <td>1</td>\n",
       "      <td>1</td>\n",
       "    </tr>\n",
       "    <tr>\n",
       "      <th>1</th>\n",
       "      <td>CUST_000002</td>\n",
       "      <td>1098</td>\n",
       "      <td>8</td>\n",
       "      <td>7</td>\n",
       "      <td>9.806674</td>\n",
       "      <td>5</td>\n",
       "      <td>Basic</td>\n",
       "      <td>1</td>\n",
       "      <td>1</td>\n",
       "      <td>4.89</td>\n",
       "      <td>6.0</td>\n",
       "      <td>5</td>\n",
       "      <td>0</td>\n",
       "    </tr>\n",
       "    <tr>\n",
       "      <th>2</th>\n",
       "      <td>CUST_000003</td>\n",
       "      <td>480</td>\n",
       "      <td>2</td>\n",
       "      <td>20</td>\n",
       "      <td>3.372652</td>\n",
       "      <td>8</td>\n",
       "      <td>Premium</td>\n",
       "      <td>0</td>\n",
       "      <td>0</td>\n",
       "      <td>19.53</td>\n",
       "      <td>NaN</td>\n",
       "      <td>9</td>\n",
       "      <td>0</td>\n",
       "    </tr>\n",
       "    <tr>\n",
       "      <th>3</th>\n",
       "      <td>CUST_000004</td>\n",
       "      <td>333</td>\n",
       "      <td>16</td>\n",
       "      <td>1</td>\n",
       "      <td>3.449923</td>\n",
       "      <td>0</td>\n",
       "      <td>Premium</td>\n",
       "      <td>2</td>\n",
       "      <td>0</td>\n",
       "      <td>16.74</td>\n",
       "      <td>5.0</td>\n",
       "      <td>5</td>\n",
       "      <td>1</td>\n",
       "    </tr>\n",
       "    <tr>\n",
       "      <th>4</th>\n",
       "      <td>CUST_000005</td>\n",
       "      <td>61</td>\n",
       "      <td>4</td>\n",
       "      <td>17</td>\n",
       "      <td>0.335829</td>\n",
       "      <td>7</td>\n",
       "      <td>Basic</td>\n",
       "      <td>0</td>\n",
       "      <td>0</td>\n",
       "      <td>NaN</td>\n",
       "      <td>8.0</td>\n",
       "      <td>1</td>\n",
       "      <td>0</td>\n",
       "    </tr>\n",
       "  </tbody>\n",
       "</table>\n",
       "</div>"
      ],
      "text/plain": [
       "   customer_id  account_age  recency  frequency  engagement_duration  \\\n",
       "0  CUST_000001          171       15          2             4.036448   \n",
       "1  CUST_000002         1098        8          7             9.806674   \n",
       "2  CUST_000003          480        2         20             3.372652   \n",
       "3  CUST_000004          333       16          1             3.449923   \n",
       "4  CUST_000005           61        4         17             0.335829   \n",
       "\n",
       "   feature_usage_count plan_tier  support_tickets  billing_issues  \\\n",
       "0                    2   Premium                3               0   \n",
       "1                    5     Basic                1               1   \n",
       "2                    8   Premium                0               0   \n",
       "3                    0   Premium                2               0   \n",
       "4                    7     Basic                0               0   \n",
       "\n",
       "   marketing_ctr  nps_score  inactivity_streak  churn  \n",
       "0           1.75        NaN                  1      1  \n",
       "1           4.89        6.0                  5      0  \n",
       "2          19.53        NaN                  9      0  \n",
       "3          16.74        5.0                  5      1  \n",
       "4            NaN        8.0                  1      0  "
      ]
     },
     "execution_count": 7,
     "metadata": {},
     "output_type": "execute_result"
    }
   ],
   "source": [
    "df.head()"
   ]
  },
  {
   "cell_type": "code",
   "execution_count": 8,
   "id": "07524348",
   "metadata": {},
   "outputs": [
    {
     "data": {
      "text/plain": [
       "(50000, 13)"
      ]
     },
     "execution_count": 8,
     "metadata": {},
     "output_type": "execute_result"
    }
   ],
   "source": [
    "df.shape"
   ]
  },
  {
   "cell_type": "code",
   "execution_count": 9,
   "id": "0ffb3560",
   "metadata": {},
   "outputs": [
    {
     "name": "stdout",
     "output_type": "stream",
     "text": [
      "<class 'pandas.core.frame.DataFrame'>\n",
      "RangeIndex: 50000 entries, 0 to 49999\n",
      "Data columns (total 13 columns):\n",
      " #   Column               Non-Null Count  Dtype  \n",
      "---  ------               --------------  -----  \n",
      " 0   customer_id          50000 non-null  object \n",
      " 1   account_age          50000 non-null  int64  \n",
      " 2   recency              50000 non-null  int64  \n",
      " 3   frequency            50000 non-null  int64  \n",
      " 4   engagement_duration  49199 non-null  float64\n",
      " 5   feature_usage_count  50000 non-null  int64  \n",
      " 6   plan_tier            50000 non-null  object \n",
      " 7   support_tickets      50000 non-null  int64  \n",
      " 8   billing_issues       50000 non-null  int64  \n",
      " 9   marketing_ctr        48001 non-null  float64\n",
      " 10  nps_score            14833 non-null  float64\n",
      " 11  inactivity_streak    50000 non-null  int64  \n",
      " 12  churn                50000 non-null  int64  \n",
      "dtypes: float64(3), int64(8), object(2)\n",
      "memory usage: 5.0+ MB\n"
     ]
    }
   ],
   "source": [
    "df.info()"
   ]
  },
  {
   "cell_type": "code",
   "execution_count": 10,
   "id": "e3e5d096",
   "metadata": {},
   "outputs": [
    {
     "name": "stdout",
     "output_type": "stream",
     "text": [
      "\n",
      "Missing values:\n",
      " customer_id                0\n",
      "account_age                0\n",
      "recency                    0\n",
      "frequency                  0\n",
      "engagement_duration      801\n",
      "feature_usage_count        0\n",
      "plan_tier                  0\n",
      "support_tickets            0\n",
      "billing_issues             0\n",
      "marketing_ctr           1999\n",
      "nps_score              35167\n",
      "inactivity_streak          0\n",
      "churn                      0\n",
      "dtype: int64\n"
     ]
    }
   ],
   "source": [
    "print(\"\\nMissing values:\\n\", df.isnull().sum())\n"
   ]
  },
  {
   "cell_type": "code",
   "execution_count": 11,
   "id": "812a4e39",
   "metadata": {},
   "outputs": [
    {
     "name": "stdout",
     "output_type": "stream",
     "text": [
      "\n",
      "Summary statistics:\n",
      "         account_age       recency     frequency  engagement_duration  \\\n",
      "count  50000.000000  50000.000000  50000.000000         49199.000000   \n",
      "mean     362.789860     10.261920     10.653120            19.507614   \n",
      "std      361.788736     15.550103      7.083313            24.084136   \n",
      "min        1.000000      0.000000      0.000000            -4.951459   \n",
      "25%      104.000000      2.000000      5.000000             4.003245   \n",
      "50%      252.000000      6.000000     11.000000            11.503249   \n",
      "75%      503.000000     14.000000     15.000000            26.441859   \n",
      "max     2500.000000    361.000000     99.000000           298.000000   \n",
      "\n",
      "       feature_usage_count  support_tickets  billing_issues  marketing_ctr  \\\n",
      "count         50000.000000     50000.000000    50000.000000   48001.000000   \n",
      "mean              5.083160         1.373180        0.447020      20.646357   \n",
      "std               3.288225         1.839474        0.676315      13.142836   \n",
      "min               0.000000         0.000000        0.000000      -1.940072   \n",
      "25%               3.000000         0.000000        0.000000      10.470000   \n",
      "50%               5.000000         1.000000        0.000000      18.510000   \n",
      "75%               7.000000         2.000000        1.000000      28.570000   \n",
      "max              20.000000        29.000000        5.000000      81.230000   \n",
      "\n",
      "          nps_score  inactivity_streak         churn  \n",
      "count  14833.000000       50000.000000  50000.000000  \n",
      "mean       6.601766           8.955240      0.277900  \n",
      "std        1.739288          17.207343      0.447968  \n",
      "min        0.000000           0.000000      0.000000  \n",
      "25%        5.000000           1.000000      0.000000  \n",
      "50%        7.000000           4.000000      0.000000  \n",
      "75%        8.000000           9.000000      1.000000  \n",
      "max       10.000000         467.000000      1.000000  \n",
      "\n",
      "Categorical columns summary:\n",
      "         customer_id plan_tier\n",
      "count         50000     50000\n",
      "unique        49950        10\n",
      "top     CUST_012925     Basic\n",
      "freq             51     19878\n"
     ]
    }
   ],
   "source": [
    "print(\"\\nSummary statistics:\\n\", df.describe())\n",
    "\n",
    "\n",
    "print(\"\\nCategorical columns summary:\\n\", df.describe(include=[\"object\"]))\n"
   ]
  },
  {
   "cell_type": "code",
   "execution_count": null,
   "id": "cbec7ce1",
   "metadata": {},
   "outputs": [],
   "source": []
  },
  {
   "cell_type": "code",
   "execution_count": null,
   "id": "04ccd638",
   "metadata": {},
   "outputs": [],
   "source": []
  }
 ],
 "metadata": {
  "kernelspec": {
   "display_name": "venv (3.12.3)",
   "language": "python",
   "name": "python3"
  },
  "language_info": {
   "codemirror_mode": {
    "name": "ipython",
    "version": 3
   },
   "file_extension": ".py",
   "mimetype": "text/x-python",
   "name": "python",
   "nbconvert_exporter": "python",
   "pygments_lexer": "ipython3",
   "version": "3.12.3"
  }
 },
 "nbformat": 4,
 "nbformat_minor": 5
}
