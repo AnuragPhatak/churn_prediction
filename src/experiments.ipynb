{
 "cells": [
  {
   "cell_type": "code",
   "execution_count": 22,
   "id": "272ca8b7",
   "metadata": {},
   "outputs": [],
   "source": [
    "import pandas as pd\n",
    "import numpy as np\n",
    "from sklearn.model_selection import train_test_split, cross_val_score\n",
    "from sklearn.metrics import accuracy_score, f1_score, roc_auc_score\n",
    "from sklearn.ensemble import RandomForestClassifier\n",
    "from xgboost import XGBClassifier\n",
    "\n",
    "import mlflow\n",
    "import mlflow.sklearn\n",
    "from hyperopt import hp, tpe, fmin, Trials, STATUS_OK\n",
    "\n"
   ]
  },
  {
   "cell_type": "code",
   "execution_count": 24,
   "id": "ac30720f",
   "metadata": {},
   "outputs": [],
   "source": [
    "def load_data(path=\"../data/processed/customer_data_new_features.csv\"):\n",
    "    df = pd.read_csv(path)\n",
    "    if \"customer_id\" in df.columns:\n",
    "        df = df.drop(\"customer_id\", axis=1)\n",
    "\n",
    "    X = df.drop(\"churn\", axis=1)\n",
    "    y = df[\"churn\"]\n",
    "\n",
    "    return train_test_split(X, y, test_size=0.2, random_state=42)\n",
    "\n",
    "X_train, X_test, y_train, y_test = load_data()\n"
   ]
  },
  {
   "cell_type": "code",
   "execution_count": 25,
   "id": "e5815f43",
   "metadata": {},
   "outputs": [],
   "source": [
    "def objective_rf(params):\n",
    "    model = RandomForestClassifier(\n",
    "        n_estimators=int(params[\"n_estimators\"]),\n",
    "        max_depth=int(params[\"max_depth\"]),\n",
    "        min_samples_split=int(params[\"min_samples_split\"]),\n",
    "        random_state=42,\n",
    "        n_jobs=-1\n",
    "    )\n",
    "    model.fit(X_train, y_train)\n",
    "    preds = model.predict(X_test)\n",
    "    probs = model.predict_proba(X_test)[:, 1]\n",
    "\n",
    "    acc = accuracy_score(y_test, preds)\n",
    "    f1 = f1_score(y_test, preds)\n",
    "    auc = roc_auc_score(y_test, probs)\n",
    "\n",
    "    return {\"loss\": -auc, \"status\": STATUS_OK, \"metrics\": (acc, f1, auc), \"model\": model}\n"
   ]
  },
  {
   "cell_type": "code",
   "execution_count": 20,
   "id": "baefb4e5",
   "metadata": {},
   "outputs": [],
   "source": [
    "\n",
    "def objective_xgb(params):\n",
    "    \"\"\"Objective function for XGBoost\"\"\"\n",
    "    model = XGBClassifier(\n",
    "        n_estimators=int(params[\"n_estimators\"]),\n",
    "        max_depth=int(params[\"max_depth\"]),\n",
    "        learning_rate=params[\"learning_rate\"],\n",
    "        subsample=params[\"subsample\"],\n",
    "        colsample_bytree=params[\"colsample_bytree\"],\n",
    "        eval_metric=\"logloss\",\n",
    "        use_label_encoder=False,\n",
    "        random_state=42,\n",
    "        n_jobs=-1\n",
    "    )\n",
    "    model.fit(X_train, y_train)\n",
    "    preds = model.predict(X_test)\n",
    "    probs = model.predict_proba(X_test)[:, 1]\n",
    "\n",
    "    acc = accuracy_score(y_test, preds)\n",
    "    f1 = f1_score(y_test, preds)\n",
    "    auc = roc_auc_score(y_test, probs)\n",
    "\n",
    "    return {\"loss\": -auc, \"status\": STATUS_OK, \"metrics\": (acc, f1, auc), \"model\": model}\n",
    "\n"
   ]
  },
  {
   "cell_type": "code",
   "execution_count": 26,
   "id": "25bf3dc3",
   "metadata": {},
   "outputs": [],
   "source": [
    "space_rf = {\n",
    "    \"n_estimators\": hp.quniform(\"n_estimators\", 50, 500, 50),\n",
    "    \"max_depth\": hp.quniform(\"max_depth\", 3, 20, 1),\n",
    "    \"min_samples_split\": hp.quniform(\"min_samples_split\", 2, 10, 1),\n",
    "}\n",
    "\n",
    "space_xgb = {\n",
    "    \"n_estimators\": hp.quniform(\"n_estimators\", 50, 500, 50),\n",
    "    \"max_depth\": hp.quniform(\"max_depth\", 3, 15, 1),\n",
    "    \"learning_rate\": hp.uniform(\"learning_rate\", 0.01, 0.3),\n",
    "    \"subsample\": hp.uniform(\"subsample\", 0.5, 1.0),\n",
    "    \"colsample_bytree\": hp.uniform(\"colsample_bytree\", 0.5, 1.0),\n",
    "}\n",
    "\n",
    "\n"
   ]
  },
  {
   "cell_type": "code",
   "execution_count": 27,
   "id": "143deb5b",
   "metadata": {},
   "outputs": [],
   "source": [
    "def run_experiment(model_name, objective_fn, space, max_evals=20):\n",
    "    mlflow.set_experiment(\"churn_prediction_experiments\")\n",
    "\n",
    "    trials = Trials()\n",
    "    best = fmin(\n",
    "        fn=objective_fn,\n",
    "        space=space,\n",
    "        algo=tpe.suggest,\n",
    "        max_evals=max_evals,\n",
    "        trials=trials\n",
    "    )\n",
    "\n",
    "    best_trial = min(trials.results, key=lambda x: x[\"loss\"])\n",
    "    acc, f1, auc = best_trial[\"metrics\"]\n",
    "    best_model = best_trial[\"model\"]\n",
    "\n",
    "\n",
    "    with mlflow.start_run(run_name=model_name):\n",
    "        mlflow.log_params(best)\n",
    "        mlflow.log_metrics({\"accuracy\": acc, \"f1_score\": f1, \"roc_auc\": auc})\n",
    "        mlflow.sklearn.log_model(best_model, artifact_path=\"model\")\n",
    "\n",
    "    print(f\"{model_name} -> Acc: {acc:.4f}, F1: {f1:.4f}, AUC: {auc:.4f}\")\n",
    "    return best_model\n"
   ]
  },
  {
   "cell_type": "code",
   "execution_count": null,
   "id": "7f290251",
   "metadata": {},
   "outputs": [],
   "source": [
    "best_rf = run_experiment(\"RandomForest\", objective_rf, space_rf, max_evals=20)\n",
    "best_xgb = run_experiment(\"XGBoost\", objective_xgb, space_xgb, max_evals=20)"
   ]
  },
  {
   "cell_type": "code",
   "execution_count": 34,
   "id": "5a3a6401",
   "metadata": {},
   "outputs": [],
   "source": [
    "from mlflow.tracking import MlflowClient\n",
    "\n",
    "def collect_best_run(experiment_name=\"churn_prediction_experiments\", metric=\"roc_auc\"):\n",
    "    client = MlflowClient()\n",
    "    experiment = client.get_experiment_by_name(experiment_name)\n",
    "    runs = client.search_runs(experiment.experiment_id, order_by=[f\"metrics.{metric} DESC\"], max_results=1)\n",
    "    \n",
    "    if not runs:\n",
    "        raise ValueError(\"No runs found in experiment\")\n",
    "    \n",
    "    best_run = runs[0]\n",
    "    best_metrics = best_run.data.metrics\n",
    "    run_id = best_run.info.run_id\n",
    "    \n",
    "    print(f\"🏆 Best run ID: {run_id}, {metric}={best_metrics[metric]:.4f}\")\n",
    "    \n",
    "    return run_id, best_metrics\n"
   ]
  },
  {
   "cell_type": "code",
   "execution_count": 35,
   "id": "8fdb07c7",
   "metadata": {},
   "outputs": [],
   "source": [
    "def register_best_run(run_id, model_name=\"churn_model\"):\n",
    "    client = MlflowClient()\n",
    "    model_uri = f\"runs:/{run_id}/model\"\n",
    "    mlflow.register_model(model_uri, model_name)\n",
    "    print(f\"✅ Registered best model (run {run_id}) as {model_name}\")\n"
   ]
  },
  {
   "cell_type": "code",
   "execution_count": 36,
   "id": "892aa26a",
   "metadata": {},
   "outputs": [
    {
     "name": "stderr",
     "output_type": "stream",
     "text": [
      "WARNING:root:Malformed experiment 'mlruns'. Detailed error Yaml file 'C:\\Anurag\\loylty_rewardz\\churn_prediction\\src\\mlruns\\mlruns\\meta.yaml' does not exist.\n",
      "Traceback (most recent call last):\n",
      "  File \"c:\\Anurag\\loylty_rewardz\\churn_prediction\\venv\\Lib\\site-packages\\mlflow\\store\\tracking\\file_store.py\", line 367, in search_experiments\n",
      "    exp = self._get_experiment(exp_id, view_type)\n",
      "          ^^^^^^^^^^^^^^^^^^^^^^^^^^^^^^^^^^^^^^^\n",
      "  File \"c:\\Anurag\\loylty_rewardz\\churn_prediction\\venv\\Lib\\site-packages\\mlflow\\store\\tracking\\file_store.py\", line 465, in _get_experiment\n",
      "    meta = FileStore._read_yaml(experiment_dir, FileStore.META_DATA_FILE_NAME)\n",
      "           ^^^^^^^^^^^^^^^^^^^^^^^^^^^^^^^^^^^^^^^^^^^^^^^^^^^^^^^^^^^^^^^^^^^\n",
      "  File \"c:\\Anurag\\loylty_rewardz\\churn_prediction\\venv\\Lib\\site-packages\\mlflow\\store\\tracking\\file_store.py\", line 1635, in _read_yaml\n",
      "    return _read_helper(root, file_name, attempts_remaining=retries)\n",
      "           ^^^^^^^^^^^^^^^^^^^^^^^^^^^^^^^^^^^^^^^^^^^^^^^^^^^^^^^^^\n",
      "  File \"c:\\Anurag\\loylty_rewardz\\churn_prediction\\venv\\Lib\\site-packages\\mlflow\\store\\tracking\\file_store.py\", line 1628, in _read_helper\n",
      "    result = read_yaml(root, file_name)\n",
      "             ^^^^^^^^^^^^^^^^^^^^^^^^^^\n",
      "  File \"c:\\Anurag\\loylty_rewardz\\churn_prediction\\venv\\Lib\\site-packages\\mlflow\\utils\\yaml_utils.py\", line 107, in read_yaml\n",
      "    raise MissingConfigException(f\"Yaml file '{file_path}' does not exist.\")\n",
      "mlflow.exceptions.MissingConfigException: Yaml file 'C:\\Anurag\\loylty_rewardz\\churn_prediction\\src\\mlruns\\mlruns\\meta.yaml' does not exist.\n",
      "Successfully registered model 'churn_model'.\n",
      "2025/09/28 12:46:06 WARNING mlflow.tracking._model_registry.fluent: Run with id d376ead2fc864c45a5a91c6da8bb1a11 has no artifacts at artifact path 'model', registering model based on models:/m-a40264e806c24fe4a10eedd85811876e instead\n"
     ]
    },
    {
     "name": "stdout",
     "output_type": "stream",
     "text": [
      "🏆 Best run ID: d376ead2fc864c45a5a91c6da8bb1a11, roc_auc=0.8689\n",
      "✅ Registered best model (run d376ead2fc864c45a5a91c6da8bb1a11) as churn_model\n"
     ]
    },
    {
     "name": "stderr",
     "output_type": "stream",
     "text": [
      "Created version '1' of model 'churn_model'.\n"
     ]
    }
   ],
   "source": [
    "best_run_id, best_metrics = collect_best_run(metric=\"roc_auc\")\n",
    "register_best_run(best_run_id, model_name=\"churn_model\")\n"
   ]
  },
  {
   "cell_type": "code",
   "execution_count": null,
   "id": "6a9b2405",
   "metadata": {},
   "outputs": [],
   "source": []
  }
 ],
 "metadata": {
  "kernelspec": {
   "display_name": "venv (3.12.3)",
   "language": "python",
   "name": "python3"
  },
  "language_info": {
   "codemirror_mode": {
    "name": "ipython",
    "version": 3
   },
   "file_extension": ".py",
   "mimetype": "text/x-python",
   "name": "python",
   "nbconvert_exporter": "python",
   "pygments_lexer": "ipython3",
   "version": "3.12.3"
  }
 },
 "nbformat": 4,
 "nbformat_minor": 5
}
