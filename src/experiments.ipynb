{
 "cells": [
  {
   "cell_type": "code",
   "execution_count": 11,
   "id": "272ca8b7",
   "metadata": {},
   "outputs": [],
   "source": [
    "import pandas as pd\n",
    "import numpy as np\n",
    "from sklearn.model_selection import train_test_split, cross_val_score\n",
    "from sklearn.metrics import accuracy_score, f1_score, roc_auc_score\n",
    "from sklearn.ensemble import RandomForestClassifier\n",
    "from xgboost import XGBClassifier\n",
    "\n",
    "import mlflow\n",
    "import mlflow.sklearn\n",
    "from hyperopt import hp, tpe, fmin, Trials, STATUS_OK\n",
    "import warnings\n",
    "warnings.filterwarnings(\"ignore\")\n",
    "\n"
   ]
  },
  {
   "cell_type": "code",
   "execution_count": 2,
   "id": "ac30720f",
   "metadata": {},
   "outputs": [],
   "source": [
    "def load_data(path=\"../data/processed/customer_data_new_features.csv\"):\n",
    "    df = pd.read_csv(path)\n",
    "    X = df.drop(\"churn\", axis=1)\n",
    "    y = df[\"churn\"]\n",
    "\n",
    "    return train_test_split(X, y, test_size=0.2, random_state=42)\n",
    "\n",
    "X_train, X_test, y_train, y_test = load_data()\n"
   ]
  },
  {
   "cell_type": "code",
   "execution_count": 3,
   "id": "e5815f43",
   "metadata": {},
   "outputs": [],
   "source": [
    "def objective_rf(params):\n",
    "    model = RandomForestClassifier(\n",
    "        n_estimators=int(params[\"n_estimators\"]),\n",
    "        max_depth=int(params[\"max_depth\"]),\n",
    "        min_samples_split=int(params[\"min_samples_split\"]),\n",
    "        random_state=42,\n",
    "        n_jobs=-1\n",
    "    )\n",
    "    model.fit(X_train, y_train)\n",
    "    preds = model.predict(X_test)\n",
    "\n",
    "    acc = accuracy_score(y_test, preds)\n",
    "\n",
    "    return {\"loss\": -acc, \"status\": STATUS_OK, \"accuracy\": acc, \"model\": model}\n"
   ]
  },
  {
   "cell_type": "code",
   "execution_count": 4,
   "id": "baefb4e5",
   "metadata": {},
   "outputs": [],
   "source": [
    "def objective_xgb(params):\n",
    "    \"\"\"Objective function for XGBoost (only accuracy)\"\"\"\n",
    "    model = XGBClassifier(\n",
    "        n_estimators=int(params[\"n_estimators\"]),\n",
    "        max_depth=int(params[\"max_depth\"]),\n",
    "        learning_rate=params[\"learning_rate\"],\n",
    "        subsample=params[\"subsample\"],\n",
    "        colsample_bytree=params[\"colsample_bytree\"],\n",
    "        eval_metric=\"logloss\",\n",
    "        use_label_encoder=False,\n",
    "        random_state=42,\n",
    "        n_jobs=-1\n",
    "    )\n",
    "    model.fit(X_train, y_train)\n",
    "    preds = model.predict(X_test)\n",
    "\n",
    "    acc = accuracy_score(y_test, preds)\n",
    "\n",
    "    return {\"loss\": -acc, \"status\": STATUS_OK, \"accuracy\": acc, \"model\": model}\n"
   ]
  },
  {
   "cell_type": "code",
   "execution_count": 6,
   "id": "25bf3dc3",
   "metadata": {},
   "outputs": [],
   "source": [
    "space_rf = {\n",
    "    \"n_estimators\": hp.quniform(\"n_estimators\", 50, 500, 50),\n",
    "    \"max_depth\": hp.quniform(\"max_depth\", 3, 20, 1),\n",
    "    \"min_samples_split\": hp.quniform(\"min_samples_split\", 2, 10, 1),\n",
    "}\n",
    "\n",
    "space_xgb = {\n",
    "    \"n_estimators\": hp.quniform(\"n_estimators\", 50, 500, 50),\n",
    "    \"max_depth\": hp.quniform(\"max_depth\", 3, 15, 1),\n",
    "    \"learning_rate\": hp.uniform(\"learning_rate\", 0.01, 0.3),\n",
    "    \"subsample\": hp.uniform(\"subsample\", 0.5, 1.0),\n",
    "    \"colsample_bytree\": hp.uniform(\"colsample_bytree\", 0.5, 1.0),\n",
    "}\n",
    "\n",
    "\n"
   ]
  },
  {
   "cell_type": "code",
   "execution_count": 12,
   "id": "143deb5b",
   "metadata": {},
   "outputs": [],
   "source": [
    "def run_experiment(model_name, objective_fn, space, max_evals=20):\n",
    "    mlflow.set_experiment(\"churn_prediction_demo\")\n",
    "\n",
    "    trials = Trials()\n",
    "    best = fmin(\n",
    "        fn=objective_fn,\n",
    "        space=space,\n",
    "        algo=tpe.suggest,\n",
    "        max_evals=max_evals,\n",
    "        trials=trials\n",
    "    )\n",
    "\n",
    "    # ✅ Get best trial by highest accuracy (lowest negative loss)\n",
    "    best_trial = min(trials.results, key=lambda x: x[\"loss\"])\n",
    "    acc = best_trial[\"accuracy\"]\n",
    "    best_model = best_trial[\"model\"]\n",
    "\n",
    "    # ✅ Log with MLflow\n",
    "    with mlflow.start_run(run_name=model_name):\n",
    "        mlflow.log_params(best)\n",
    "        mlflow.log_metric(\"accuracy\", acc)\n",
    "        mlflow.sklearn.log_model(best_model, artifact_path=\"model\")\n",
    "\n",
    "    print(f\"{model_name} -> Accuracy: {acc:.4f}\")\n",
    "    return best_model\n"
   ]
  },
  {
   "cell_type": "code",
   "execution_count": 16,
   "id": "f56bf99a",
   "metadata": {},
   "outputs": [
    {
     "name": "stderr",
     "output_type": "stream",
     "text": [
      "2025/09/28 15:36:13 INFO mlflow.tracking.fluent: Experiment with name 'churn_prediction_demo' does not exist. Creating a new experiment.\n"
     ]
    },
    {
     "data": {
      "text/plain": [
       "<Experiment: artifact_location='file:///C:/Anurag/loylty_rewardz/churn_prediction/src/mlruns/157268614876639233', creation_time=1759053973520, experiment_id='157268614876639233', last_update_time=1759053973520, lifecycle_stage='active', name='churn_prediction_demo', tags={}>"
      ]
     },
     "execution_count": 16,
     "metadata": {},
     "output_type": "execute_result"
    }
   ],
   "source": [
    "import mlflow\n",
    "\n",
    "mlflow.set_tracking_uri(\"file:///C:/Anurag/loylty_rewardz/churn_prediction/src/mlruns\")\n",
    "mlflow.set_experiment(\"churn_prediction_demo\")\n"
   ]
  },
  {
   "cell_type": "code",
   "execution_count": 17,
   "id": "7f290251",
   "metadata": {},
   "outputs": [
    {
     "name": "stdout",
     "output_type": "stream",
     "text": [
      "100%|██████████| 20/20 [01:15<00:00,  3.78s/trial, best loss: -0.8397397397397397]"
     ]
    },
    {
     "name": "stderr",
     "output_type": "stream",
     "text": [
      "2025/09/28 15:37:37 WARNING mlflow.models.model: `artifact_path` is deprecated. Please use `name` instead.\n"
     ]
    },
    {
     "name": "stdout",
     "output_type": "stream",
     "text": [
      "\n"
     ]
    },
    {
     "name": "stderr",
     "output_type": "stream",
     "text": [
      "2025/09/28 15:37:41 WARNING mlflow.models.model: Model logged without a signature and input example. Please set `input_example` parameter when logging the model to auto infer the model signature.\n"
     ]
    },
    {
     "name": "stdout",
     "output_type": "stream",
     "text": [
      "RandomForest -> Accuracy: 0.8397\n",
      "100%|██████████| 20/20 [00:14<00:00,  1.35trial/s, best loss: -0.8396396396396396]"
     ]
    },
    {
     "name": "stderr",
     "output_type": "stream",
     "text": [
      "2025/09/28 15:37:56 WARNING mlflow.models.model: `artifact_path` is deprecated. Please use `name` instead.\n"
     ]
    },
    {
     "name": "stdout",
     "output_type": "stream",
     "text": [
      "\n"
     ]
    },
    {
     "name": "stderr",
     "output_type": "stream",
     "text": [
      "2025/09/28 15:38:01 WARNING mlflow.models.model: Model logged without a signature and input example. Please set `input_example` parameter when logging the model to auto infer the model signature.\n"
     ]
    },
    {
     "name": "stdout",
     "output_type": "stream",
     "text": [
      "XGBoost -> Accuracy: 0.8396\n"
     ]
    }
   ],
   "source": [
    "best_rf = run_experiment(\"RandomForest\", objective_rf, space_rf, max_evals=20)\n",
    "best_xgb = run_experiment(\"XGBoost\", objective_xgb, space_xgb, max_evals=20)"
   ]
  },
  {
   "cell_type": "code",
   "execution_count": null,
   "id": "5a3a6401",
   "metadata": {},
   "outputs": [],
   "source": [
    "from mlflow.tracking import MlflowClient\n",
    "\n",
    "def collect_best_run(experiment_name=\"churn_prediction_demo\", metric=\"roc_auc\"):\n",
    "    client = MlflowClient()\n",
    "    experiment = client.get_experiment_by_name(experiment_name)\n",
    "    runs = client.search_runs(experiment.experiment_id, order_by=[f\"metrics.{metric} DESC\"], max_results=1)\n",
    "    \n",
    "    if not runs:\n",
    "        raise ValueError(\"No runs found in experiment\")\n",
    "    \n",
    "    best_run = runs[0]\n",
    "    best_metrics = best_run.data.metrics\n",
    "    run_id = best_run.info.run_id\n",
    "    \n",
    "    print(f\"🏆 Best run ID: {run_id}, {metric}={best_metrics[metric]:.4f}\")\n",
    "    \n",
    "    return run_id, best_metrics\n"
   ]
  },
  {
   "cell_type": "code",
   "execution_count": 35,
   "id": "8fdb07c7",
   "metadata": {},
   "outputs": [],
   "source": [
    "def register_best_run(run_id, model_name=\"churn_model\"):\n",
    "    client = MlflowClient()\n",
    "    model_uri = f\"runs:/{run_id}/model\"\n",
    "    mlflow.register_model(model_uri, model_name)\n",
    "    print(f\"✅ Registered best model (run {run_id}) as {model_name}\")\n"
   ]
  },
  {
   "cell_type": "code",
   "execution_count": 36,
   "id": "892aa26a",
   "metadata": {},
   "outputs": [
    {
     "name": "stderr",
     "output_type": "stream",
     "text": [
      "WARNING:root:Malformed experiment 'mlruns'. Detailed error Yaml file 'C:\\Anurag\\loylty_rewardz\\churn_prediction\\src\\mlruns\\mlruns\\meta.yaml' does not exist.\n",
      "Traceback (most recent call last):\n",
      "  File \"c:\\Anurag\\loylty_rewardz\\churn_prediction\\venv\\Lib\\site-packages\\mlflow\\store\\tracking\\file_store.py\", line 367, in search_experiments\n",
      "    exp = self._get_experiment(exp_id, view_type)\n",
      "          ^^^^^^^^^^^^^^^^^^^^^^^^^^^^^^^^^^^^^^^\n",
      "  File \"c:\\Anurag\\loylty_rewardz\\churn_prediction\\venv\\Lib\\site-packages\\mlflow\\store\\tracking\\file_store.py\", line 465, in _get_experiment\n",
      "    meta = FileStore._read_yaml(experiment_dir, FileStore.META_DATA_FILE_NAME)\n",
      "           ^^^^^^^^^^^^^^^^^^^^^^^^^^^^^^^^^^^^^^^^^^^^^^^^^^^^^^^^^^^^^^^^^^^\n",
      "  File \"c:\\Anurag\\loylty_rewardz\\churn_prediction\\venv\\Lib\\site-packages\\mlflow\\store\\tracking\\file_store.py\", line 1635, in _read_yaml\n",
      "    return _read_helper(root, file_name, attempts_remaining=retries)\n",
      "           ^^^^^^^^^^^^^^^^^^^^^^^^^^^^^^^^^^^^^^^^^^^^^^^^^^^^^^^^^\n",
      "  File \"c:\\Anurag\\loylty_rewardz\\churn_prediction\\venv\\Lib\\site-packages\\mlflow\\store\\tracking\\file_store.py\", line 1628, in _read_helper\n",
      "    result = read_yaml(root, file_name)\n",
      "             ^^^^^^^^^^^^^^^^^^^^^^^^^^\n",
      "  File \"c:\\Anurag\\loylty_rewardz\\churn_prediction\\venv\\Lib\\site-packages\\mlflow\\utils\\yaml_utils.py\", line 107, in read_yaml\n",
      "    raise MissingConfigException(f\"Yaml file '{file_path}' does not exist.\")\n",
      "mlflow.exceptions.MissingConfigException: Yaml file 'C:\\Anurag\\loylty_rewardz\\churn_prediction\\src\\mlruns\\mlruns\\meta.yaml' does not exist.\n",
      "Successfully registered model 'churn_model'.\n",
      "2025/09/28 12:46:06 WARNING mlflow.tracking._model_registry.fluent: Run with id d376ead2fc864c45a5a91c6da8bb1a11 has no artifacts at artifact path 'model', registering model based on models:/m-a40264e806c24fe4a10eedd85811876e instead\n"
     ]
    },
    {
     "name": "stdout",
     "output_type": "stream",
     "text": [
      "🏆 Best run ID: d376ead2fc864c45a5a91c6da8bb1a11, roc_auc=0.8689\n",
      "✅ Registered best model (run d376ead2fc864c45a5a91c6da8bb1a11) as churn_model\n"
     ]
    },
    {
     "name": "stderr",
     "output_type": "stream",
     "text": [
      "Created version '1' of model 'churn_model'.\n"
     ]
    }
   ],
   "source": [
    "best_run_id, best_metrics = collect_best_run(metric=\"roc_auc\")\n",
    "register_best_run(best_run_id, model_name=\"churn_model\")\n"
   ]
  },
  {
   "cell_type": "code",
   "execution_count": null,
   "id": "6a9b2405",
   "metadata": {},
   "outputs": [],
   "source": []
  }
 ],
 "metadata": {
  "kernelspec": {
   "display_name": "venv (3.12.3)",
   "language": "python",
   "name": "python3"
  },
  "language_info": {
   "codemirror_mode": {
    "name": "ipython",
    "version": 3
   },
   "file_extension": ".py",
   "mimetype": "text/x-python",
   "name": "python",
   "nbconvert_exporter": "python",
   "pygments_lexer": "ipython3",
   "version": "3.12.3"
  }
 },
 "nbformat": 4,
 "nbformat_minor": 5
}
