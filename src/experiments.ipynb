{
 "cells": [
  {
   "cell_type": "code",
   "execution_count": 20,
   "id": "6a9b2405",
   "metadata": {},
   "outputs": [],
   "source": [
    "import pandas as pd\n",
    "import mlflow\n",
    "import mlflow.sklearn\n",
    "from sklearn.model_selection import train_test_split\n",
    "from sklearn.metrics import accuracy_score\n",
    "from sklearn.linear_model import LogisticRegression\n",
    "from sklearn.ensemble import RandomForestClassifier\n",
    "from xgboost import XGBClassifier\n",
    "from hyperopt import hp, tpe, fmin, Trials, STATUS_OK"
   ]
  },
  {
   "cell_type": "code",
   "execution_count": 21,
   "id": "0a917863",
   "metadata": {},
   "outputs": [],
   "source": [
    "df = pd.read_csv(\"../data/processed/customer_data_new_features.csv\")\n",
    "\n",
    "X = df.drop(\"churn\", axis=1)\n",
    "y = df[\"churn\"]\n",
    "\n",
    "X_train, X_test, y_train, y_test = train_test_split(\n",
    "    X, y, test_size=0.2, random_state=42, stratify=y\n",
    ")"
   ]
  },
  {
   "cell_type": "code",
   "execution_count": 22,
   "id": "0bf37d96",
   "metadata": {},
   "outputs": [],
   "source": [
    "def get_models():\n",
    "    return {\n",
    "        \"LogisticRegression\": LogisticRegression(max_iter=500),\n",
    "        \"RandomForest\": RandomForestClassifier(n_estimators=100, random_state=42),\n",
    "        \"XGBoost\": XGBClassifier(use_label_encoder=False, eval_metric=\"logloss\", random_state=42)\n",
    "    }"
   ]
  },
  {
   "cell_type": "code",
   "execution_count": 23,
   "id": "3f635abb",
   "metadata": {},
   "outputs": [],
   "source": [
    "def train_and_log(model, model_name, params=None):\n",
    "    with mlflow.start_run(run_name=model_name):\n",
    "        if params:\n",
    "            model.set_params(**params)\n",
    "\n",
    "        model.fit(X_train, y_train)\n",
    "        preds = model.predict(X_test)\n",
    "        acc = accuracy_score(y_test, preds)\n",
    "\n",
    "      \n",
    "        mlflow.log_metric(\"accuracy\", acc)\n",
    "        mlflow.log_param(\"model\", model_name)\n",
    "        if params:\n",
    "            mlflow.log_params(params)\n",
    "\n",
    "        mlflow.sklearn.log_model(model, model_name)\n",
    "\n",
    "        print(f\"{model_name} -> Accuracy: {acc:.4f}\")\n",
    "        return acc"
   ]
  },
  {
   "cell_type": "code",
   "execution_count": 24,
   "id": "7af5b03c",
   "metadata": {},
   "outputs": [],
   "source": [
    "def hyperopt_tune(model_name, max_evals=20):\n",
    "    if model_name == \"RandomForest\":\n",
    "        space = {\n",
    "            \"n_estimators\": hp.choice(\"n_estimators\", [50, 100, 200]),\n",
    "            \"max_depth\": hp.choice(\"max_depth\", [5, 10, 20, None]),\n",
    "            \"min_samples_split\": hp.uniform(\"min_samples_split\", 0.01, 0.2)\n",
    "        }\n",
    "        base_model = RandomForestClassifier(random_state=42)\n",
    "\n",
    "    elif model_name == \"XGBoost\":\n",
    "        space = {\n",
    "            \"n_estimators\": hp.choice(\"n_estimators\", [50, 100, 200]),\n",
    "            \"max_depth\": hp.choice(\"max_depth\", [3, 5, 7]),\n",
    "            \"learning_rate\": hp.uniform(\"learning_rate\", 0.01, 0.3)\n",
    "        }\n",
    "        base_model = XGBClassifier(use_label_encoder=False, eval_metric=\"logloss\", random_state=42)\n",
    "\n",
    "    else:\n",
    "        print(f\"No hyperopt space defined for {model_name}\")\n",
    "        return\n",
    "\n",
    "    def objective(params):\n",
    "        acc = train_and_log(base_model, f\"{model_name}_tuned\", params)\n",
    "        return {\"loss\": -acc, \"status\": STATUS_OK}\n",
    "\n",
    "    trials = Trials()\n",
    "    best = fmin(fn=objective, space=space, algo=tpe.suggest, max_evals=max_evals, trials=trials)\n",
    "    print(f\"Best params for {model_name}: {best}\")\n",
    "    return best"
   ]
  },
  {
   "cell_type": "code",
   "execution_count": 28,
   "id": "ed10da1a",
   "metadata": {},
   "outputs": [
    {
     "name": "stderr",
     "output_type": "stream",
     "text": [
      "2025/09/28 18:26:29 INFO mlflow.tracking.fluent: Experiment with name 'demo_churn' does not exist. Creating a new experiment.\n",
      "2025/09/28 18:26:30 WARNING mlflow.models.model: `artifact_path` is deprecated. Please use `name` instead.\n",
      "2025/09/28 18:26:35 WARNING mlflow.models.model: Model logged without a signature and input example. Please set `input_example` parameter when logging the model to auto infer the model signature.\n"
     ]
    },
    {
     "name": "stdout",
     "output_type": "stream",
     "text": [
      "LogisticRegression -> Accuracy: 0.8254\n"
     ]
    },
    {
     "name": "stderr",
     "output_type": "stream",
     "text": [
      "2025/09/28 18:26:44 WARNING mlflow.models.model: `artifact_path` is deprecated. Please use `name` instead.\n",
      "2025/09/28 18:26:49 WARNING mlflow.models.model: Model logged without a signature and input example. Please set `input_example` parameter when logging the model to auto infer the model signature.\n"
     ]
    },
    {
     "name": "stdout",
     "output_type": "stream",
     "text": [
      "RandomForest -> Accuracy: 0.8217\n"
     ]
    },
    {
     "name": "stderr",
     "output_type": "stream",
     "text": [
      "2025/09/28 18:26:49 WARNING mlflow.models.model: `artifact_path` is deprecated. Please use `name` instead.\n",
      "2025/09/28 18:26:54 WARNING mlflow.models.model: Model logged without a signature and input example. Please set `input_example` parameter when logging the model to auto infer the model signature.\n"
     ]
    },
    {
     "name": "stdout",
     "output_type": "stream",
     "text": [
      "XGBoost -> Accuracy: 0.8343\n",
      "  0%|          | 0/8 [00:00<?, ?trial/s, best loss=?]"
     ]
    },
    {
     "name": "stderr",
     "output_type": "stream",
     "text": [
      "2025/09/28 18:26:59 WARNING mlflow.models.model: `artifact_path` is deprecated. Please use `name` instead.\n",
      "\n",
      "2025/09/28 18:27:03 WARNING mlflow.models.model: Model logged without a signature and input example. Please set `input_example` parameter when logging the model to auto infer the model signature.\n",
      "\n"
     ]
    },
    {
     "name": "stdout",
     "output_type": "stream",
     "text": [
      "RandomForest_tuned -> Accuracy: 0.8366               \n",
      " 12%|█▎        | 1/8 [00:09<01:04,  9.20s/trial, best loss: -0.8366366366366367]"
     ]
    },
    {
     "name": "stderr",
     "output_type": "stream",
     "text": [
      "2025/09/28 18:27:06 WARNING mlflow.models.model: `artifact_path` is deprecated. Please use `name` instead.\n",
      "\n",
      "2025/09/28 18:27:11 WARNING mlflow.models.model: Model logged without a signature and input example. Please set `input_example` parameter when logging the model to auto infer the model signature.\n",
      "\n"
     ]
    },
    {
     "name": "stdout",
     "output_type": "stream",
     "text": [
      "RandomForest_tuned -> Accuracy: 0.8359                                          \n",
      " 25%|██▌       | 2/8 [00:16<00:49,  8.26s/trial, best loss: -0.8366366366366367]"
     ]
    },
    {
     "name": "stderr",
     "output_type": "stream",
     "text": [
      "2025/09/28 18:27:18 WARNING mlflow.models.model: `artifact_path` is deprecated. Please use `name` instead.\n",
      "\n",
      "2025/09/28 18:27:22 WARNING mlflow.models.model: Model logged without a signature and input example. Please set `input_example` parameter when logging the model to auto infer the model signature.\n",
      "\n"
     ]
    },
    {
     "name": "stdout",
     "output_type": "stream",
     "text": [
      "RandomForest_tuned -> Accuracy: 0.8357                                          \n",
      " 38%|███▊      | 3/8 [00:28<00:48,  9.78s/trial, best loss: -0.8366366366366367]"
     ]
    },
    {
     "name": "stderr",
     "output_type": "stream",
     "text": [
      "2025/09/28 18:27:25 WARNING mlflow.models.model: `artifact_path` is deprecated. Please use `name` instead.\n",
      "\n",
      "2025/09/28 18:27:29 WARNING mlflow.models.model: Model logged without a signature and input example. Please set `input_example` parameter when logging the model to auto infer the model signature.\n",
      "\n"
     ]
    },
    {
     "name": "stdout",
     "output_type": "stream",
     "text": [
      "RandomForest_tuned -> Accuracy: 0.8315                                          \n",
      " 50%|█████     | 4/8 [00:35<00:34,  8.60s/trial, best loss: -0.8366366366366367]"
     ]
    },
    {
     "name": "stderr",
     "output_type": "stream",
     "text": [
      "2025/09/28 18:27:31 WARNING mlflow.models.model: `artifact_path` is deprecated. Please use `name` instead.\n",
      "\n",
      "2025/09/28 18:27:35 WARNING mlflow.models.model: Model logged without a signature and input example. Please set `input_example` parameter when logging the model to auto infer the model signature.\n",
      "\n"
     ]
    },
    {
     "name": "stdout",
     "output_type": "stream",
     "text": [
      "RandomForest_tuned -> Accuracy: 0.8315                                          \n",
      " 62%|██████▎   | 5/8 [00:41<00:22,  7.63s/trial, best loss: -0.8366366366366367]"
     ]
    },
    {
     "name": "stderr",
     "output_type": "stream",
     "text": [
      "2025/09/28 18:27:38 WARNING mlflow.models.model: `artifact_path` is deprecated. Please use `name` instead.\n",
      "\n",
      "2025/09/28 18:27:43 WARNING mlflow.models.model: Model logged without a signature and input example. Please set `input_example` parameter when logging the model to auto infer the model signature.\n",
      "\n"
     ]
    },
    {
     "name": "stdout",
     "output_type": "stream",
     "text": [
      "RandomForest_tuned -> Accuracy: 0.8371                                          \n",
      " 75%|███████▌  | 6/8 [00:48<00:15,  7.69s/trial, best loss: -0.8371371371371371]"
     ]
    },
    {
     "name": "stderr",
     "output_type": "stream",
     "text": [
      "2025/09/28 18:27:44 WARNING mlflow.models.model: `artifact_path` is deprecated. Please use `name` instead.\n",
      "\n",
      "2025/09/28 18:27:48 WARNING mlflow.models.model: Model logged without a signature and input example. Please set `input_example` parameter when logging the model to auto infer the model signature.\n",
      "\n"
     ]
    },
    {
     "name": "stdout",
     "output_type": "stream",
     "text": [
      "RandomForest_tuned -> Accuracy: 0.8336                                          \n",
      " 88%|████████▊ | 7/8 [00:54<00:07,  7.03s/trial, best loss: -0.8371371371371371]"
     ]
    },
    {
     "name": "stderr",
     "output_type": "stream",
     "text": [
      "2025/09/28 18:27:50 WARNING mlflow.models.model: `artifact_path` is deprecated. Please use `name` instead.\n",
      "\n",
      "2025/09/28 18:27:54 WARNING mlflow.models.model: Model logged without a signature and input example. Please set `input_example` parameter when logging the model to auto infer the model signature.\n",
      "\n"
     ]
    },
    {
     "name": "stdout",
     "output_type": "stream",
     "text": [
      "RandomForest_tuned -> Accuracy: 0.8371                                          \n",
      "100%|██████████| 8/8 [01:00<00:00,  7.51s/trial, best loss: -0.8371371371371371]\n",
      "Best params for RandomForest: {'max_depth': np.int64(0), 'min_samples_split': np.float64(0.17570957228003786), 'n_estimators': np.int64(2)}\n",
      "  0%|          | 0/8 [00:00<?, ?trial/s, best loss=?]"
     ]
    },
    {
     "name": "stderr",
     "output_type": "stream",
     "text": [
      "2025/09/28 18:27:54 WARNING mlflow.models.model: `artifact_path` is deprecated. Please use `name` instead.\n",
      "\n",
      "2025/09/28 18:27:59 WARNING mlflow.models.model: Model logged without a signature and input example. Please set `input_example` parameter when logging the model to auto infer the model signature.\n",
      "\n"
     ]
    },
    {
     "name": "stdout",
     "output_type": "stream",
     "text": [
      "XGBoost_tuned -> Accuracy: 0.8373                    \n",
      " 12%|█▎        | 1/8 [00:05<00:35,  5.06s/trial, best loss: -0.8373373373373373]"
     ]
    },
    {
     "name": "stderr",
     "output_type": "stream",
     "text": [
      "2025/09/28 18:27:59 WARNING mlflow.models.model: `artifact_path` is deprecated. Please use `name` instead.\n",
      "\n",
      "2025/09/28 18:28:04 WARNING mlflow.models.model: Model logged without a signature and input example. Please set `input_example` parameter when logging the model to auto infer the model signature.\n",
      "\n"
     ]
    },
    {
     "name": "stdout",
     "output_type": "stream",
     "text": [
      "XGBoost_tuned -> Accuracy: 0.8351                                               \n",
      " 25%|██▌       | 2/8 [00:09<00:29,  4.84s/trial, best loss: -0.8373373373373373]"
     ]
    },
    {
     "name": "stderr",
     "output_type": "stream",
     "text": [
      "2025/09/28 18:28:04 WARNING mlflow.models.model: `artifact_path` is deprecated. Please use `name` instead.\n",
      "\n",
      "2025/09/28 18:28:08 WARNING mlflow.models.model: Model logged without a signature and input example. Please set `input_example` parameter when logging the model to auto infer the model signature.\n",
      "\n"
     ]
    },
    {
     "name": "stdout",
     "output_type": "stream",
     "text": [
      "XGBoost_tuned -> Accuracy: 0.8371                                               \n",
      " 38%|███▊      | 3/8 [00:14<00:23,  4.75s/trial, best loss: -0.8373373373373373]"
     ]
    },
    {
     "name": "stderr",
     "output_type": "stream",
     "text": [
      "2025/09/28 18:28:08 WARNING mlflow.models.model: `artifact_path` is deprecated. Please use `name` instead.\n",
      "\n",
      "2025/09/28 18:28:13 WARNING mlflow.models.model: Model logged without a signature and input example. Please set `input_example` parameter when logging the model to auto infer the model signature.\n",
      "\n"
     ]
    },
    {
     "name": "stdout",
     "output_type": "stream",
     "text": [
      "XGBoost_tuned -> Accuracy: 0.8365                                               \n",
      " 50%|█████     | 4/8 [00:18<00:18,  4.68s/trial, best loss: -0.8373373373373373]"
     ]
    },
    {
     "name": "stderr",
     "output_type": "stream",
     "text": [
      "2025/09/28 18:28:13 WARNING mlflow.models.model: `artifact_path` is deprecated. Please use `name` instead.\n",
      "\n",
      "2025/09/28 18:28:18 WARNING mlflow.models.model: Model logged without a signature and input example. Please set `input_example` parameter when logging the model to auto infer the model signature.\n",
      "\n"
     ]
    },
    {
     "name": "stdout",
     "output_type": "stream",
     "text": [
      "XGBoost_tuned -> Accuracy: 0.8355                                               \n",
      " 62%|██████▎   | 5/8 [00:24<00:14,  4.85s/trial, best loss: -0.8373373373373373]"
     ]
    },
    {
     "name": "stderr",
     "output_type": "stream",
     "text": [
      "2025/09/28 18:28:18 WARNING mlflow.models.model: `artifact_path` is deprecated. Please use `name` instead.\n",
      "\n",
      "2025/09/28 18:28:23 WARNING mlflow.models.model: Model logged without a signature and input example. Please set `input_example` parameter when logging the model to auto infer the model signature.\n",
      "\n"
     ]
    },
    {
     "name": "stdout",
     "output_type": "stream",
     "text": [
      "XGBoost_tuned -> Accuracy: 0.8366                                               \n",
      " 75%|███████▌  | 6/8 [00:28<00:09,  4.79s/trial, best loss: -0.8373373373373373]"
     ]
    },
    {
     "name": "stderr",
     "output_type": "stream",
     "text": [
      "2025/09/28 18:28:23 WARNING mlflow.models.model: `artifact_path` is deprecated. Please use `name` instead.\n",
      "\n",
      "2025/09/28 18:28:28 WARNING mlflow.models.model: Model logged without a signature and input example. Please set `input_example` parameter when logging the model to auto infer the model signature.\n",
      "\n"
     ]
    },
    {
     "name": "stdout",
     "output_type": "stream",
     "text": [
      "XGBoost_tuned -> Accuracy: 0.8300                                               \n",
      " 88%|████████▊ | 7/8 [00:33<00:04,  4.89s/trial, best loss: -0.8373373373373373]"
     ]
    },
    {
     "name": "stderr",
     "output_type": "stream",
     "text": [
      "2025/09/28 18:28:28 WARNING mlflow.models.model: `artifact_path` is deprecated. Please use `name` instead.\n",
      "\n",
      "2025/09/28 18:28:32 WARNING mlflow.models.model: Model logged without a signature and input example. Please set `input_example` parameter when logging the model to auto infer the model signature.\n",
      "\n"
     ]
    },
    {
     "name": "stdout",
     "output_type": "stream",
     "text": [
      "XGBoost_tuned -> Accuracy: 0.8355                                               \n",
      "100%|██████████| 8/8 [00:38<00:00,  4.82s/trial, best loss: -0.8373373373373373]\n",
      "Best params for XGBoost: {'learning_rate': np.float64(0.1706869478158034), 'max_depth': np.int64(1), 'n_estimators': np.int64(0)}\n"
     ]
    },
    {
     "data": {
      "text/plain": [
       "{'learning_rate': np.float64(0.1706869478158034),\n",
       " 'max_depth': np.int64(1),\n",
       " 'n_estimators': np.int64(0)}"
      ]
     },
     "execution_count": 28,
     "metadata": {},
     "output_type": "execute_result"
    }
   ],
   "source": [
    "mlflow.set_experiment(\"demo_churn\")\n",
    "\n",
    "models = get_models()\n",
    "for name, model in models.items():\n",
    "    train_and_log(model, name)\n",
    "\n",
    "hyperopt_tune(\"RandomForest\", max_evals=8)\n",
    "hyperopt_tune(\"XGBoost\", max_evals=8)"
   ]
  },
  {
   "cell_type": "code",
   "execution_count": 29,
   "id": "4a181974",
   "metadata": {},
   "outputs": [
    {
     "name": "stdout",
     "output_type": "stream",
     "text": [
      "🔥 Best Run Details 🔥\n",
      "Run ID     : b92465da1fe942bcb1ee716e2267f081\n",
      "Model Name : XGBoost_tuned\n",
      "Accuracy   : 0.8373\n",
      "\n",
      "Hyperparameters:\n",
      "learning_rate: 0.1706869478158034\n",
      "max_depth: 5\n",
      "n_estimators: 50\n"
     ]
    }
   ],
   "source": [
    "exp_name = \"demo_churn\"\n",
    "experiment = mlflow.get_experiment_by_name(exp_name)\n",
    "runs_df = mlflow.search_runs(experiment_ids=[experiment.experiment_id])\n",
    "\n",
    "best_run = runs_df.loc[runs_df[\"metrics.accuracy\"].idxmax()]\n",
    "best_run_id = best_run.run_id\n",
    "\n",
    "print(\"🔥 Best Run Details 🔥\")\n",
    "print(f\"Run ID     : {best_run_id}\")\n",
    "print(f\"Model Name : {best_run['params.model']}\")\n",
    "print(f\"Accuracy   : {best_run['metrics.accuracy']:.4f}\")\n",
    "\n",
    "client = mlflow.tracking.MlflowClient()\n",
    "params = client.get_run(best_run_id).data.params\n",
    "\n",
    "print(\"\\nHyperparameters:\")\n",
    "for k, v in params.items():\n",
    "    if k != \"model\":  \n",
    "        print(f\"{k}: {v}\")\n"
   ]
  },
  {
   "cell_type": "code",
   "execution_count": null,
   "id": "a72f8ab6",
   "metadata": {},
   "outputs": [],
   "source": []
  }
 ],
 "metadata": {
  "kernelspec": {
   "display_name": "venv (3.12.3)",
   "language": "python",
   "name": "python3"
  },
  "language_info": {
   "codemirror_mode": {
    "name": "ipython",
    "version": 3
   },
   "file_extension": ".py",
   "mimetype": "text/x-python",
   "name": "python",
   "nbconvert_exporter": "python",
   "pygments_lexer": "ipython3",
   "version": "3.12.3"
  }
 },
 "nbformat": 4,
 "nbformat_minor": 5
}
